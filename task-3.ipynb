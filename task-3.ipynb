{
 "cells": [
  {
   "cell_type": "code",
   "execution_count": 240,
   "metadata": {},
   "outputs": [],
   "source": [
    "from typing import List\n",
    "import numpy as np\n",
    "import pathlib\n",
    "import bs4 as bs\n",
    "import re\n",
    "import os\n",
    "import pytest \n",
    "import glob\n",
    "import pandas as pd\n",
    "import chardet\n",
    "from chardet.universaldetector import UniversalDetector\n",
    "\n",
    "from sklearn.model_selection import train_test_split\n",
    "from sklearn.metrics import f1_score\n",
    "from sklearn.linear_model import SGDClassifier\n",
    "from sklearn.feature_extraction.text import TfidfVectorizer\n",
    "from sklearn.pipeline import make_pipeline\n",
    "from sklearn.pipeline import Pipeline\n",
    "\n",
    "from sklearn.svm import SVC\n",
    "from sklearn.naive_bayes import BernoulliNB\n",
    "from sklearn.model_selection import GridSearchCV\n",
    "\n",
    "dataset_folder = 'data'\n",
    "detector = UniversalDetector()"
   ]
  },
  {
   "cell_type": "code",
   "execution_count": null,
   "metadata": {},
   "outputs": [],
   "source": [
    "\n",
    "\n",
    "authorIDs = [3574878, 2845196, 3444474, 3445677, 828046, 4284264, 3498812, 4137740, 3662461, 3363271]\n",
    "filenames = []\n",
    "\n",
    "\n",
    "\n",
    "for id in authorIDs:\n",
    " filename = glob.glob('blogs/' + str(id) + '.*.xml')\n",
    " filenames.append(filename[0])\n",
    "    \n",
    "for filename in filenames:\n",
    "#for filename in glob.glob('blogs/*.xml'):\n",
    "    print(filename)\n",
    "    detector.reset()\n",
    "    for line in open(filename, 'rb'):\n",
    "        detector.feed(line)\n",
    "        if detector.done: break\n",
    "    detector.close()\n",
    "    print(detector.result['encoding'])"
   ]
  },
  {
   "cell_type": "code",
   "execution_count": 226,
   "metadata": {},
   "outputs": [],
   "source": [
    "class Post:\n",
    "    author_number: int\n",
    "    gender: str\n",
    "    age: int\n",
    "    industry: str\n",
    "    star_sign: str\n",
    "    date: str  \n",
    "    post: str\n",
    "\n",
    "    def to_dict(self):\n",
    "        return {\n",
    "            key: getattr(self, key)\n",
    "            for key in ['author_number', 'gender', 'age', 'industry', 'star_sign', 'date', 'post']\n",
    "        }\n",
    "\n",
    "    @staticmethod\n",
    "    def load_from_file(filename) -> List[\"Post\"]:\n",
    "        # The last element is the file extension, which we don't care about\n",
    "        # example file format is: 5144.male.25.indUnk.Scorpio.xml\n",
    "        age, author_number, gender, industry, star_sign = Post.extract_attributes_from_filename(filename)\n",
    "\n",
    "        posts = []\n",
    "        \n",
    "        encoding = Post.get_encoding(filename);\n",
    "        xml_source = open(filename, errors='surrogateescape', encoding=encoding).read()\n",
    "        #xml_source = open(filename, errors='strict', encoding=encoding).read()\n",
    "        #xml_source = open(filename, errors='replace').read()\n",
    "        xml_soup = bs.BeautifulSoup(xml_source, \"lxml\")\n",
    "        xml_posts = xml_soup.find_all(\"post\")\n",
    "        xml_dates = xml_soup.find_all(\"date\")\n",
    "        #print(posts[0].text)\n",
    "        \n",
    "        for i in range(0, len(xml_posts)):\n",
    "            new_post = Post.create_from_attributes(\n",
    "                author_number, gender, age, industry, star_sign, xml_dates[i].text.strip(), xml_posts[i].text.strip())\n",
    "            posts.append(new_post)\n",
    "\n",
    "        return posts\n",
    "\n",
    "    @staticmethod\n",
    "    def extract_attributes_from_filename(filename):\n",
    "        base_filename = pathlib.Path(filename).name  # Get just the filename component\n",
    "        author_number, gender, age, industry, star_sign, _ = base_filename.split(\".\")\n",
    "        author_number = int(author_number)\n",
    "        age = int(age)\n",
    "        return age, author_number, gender, industry, star_sign\n",
    "\n",
    "    @staticmethod\n",
    "    def get_encoding(filename):\n",
    "        detector.reset()\n",
    "        for line in open(filename, 'rb'):\n",
    "            detector.feed(line)\n",
    "            if detector.done: break\n",
    "        detector.close()\n",
    "        return detector.result['encoding']\n",
    "    \n",
    "    @staticmethod\n",
    "    def create_from_attributes(author_number, gender, age, industry, star_sign, date, post):\n",
    "        p = Post()\n",
    "        p.author_number = author_number\n",
    "        p.gender = gender\n",
    "        p.age = age\n",
    "        p.industry = industry\n",
    "        p.star_sign = star_sign\n",
    "        p.date = date  \n",
    "        p.post = post  \n",
    "        return p"
   ]
  },
  {
   "cell_type": "code",
   "execution_count": 227,
   "metadata": {},
   "outputs": [
    {
     "name": "stdout",
     "output_type": "stream",
     "text": [
      "Well... I am unsure how to start this new blogging stuff...guess I will just reflect a little and see how it goes.  Have you ever been stuck in a matrix? I have! To me it was like being in a padded, suspended time warp during the early part of  my adult life. A time that lasted over 12 years. That shouldn’t happen to anyone...and shouldn’t have happen to me. But it did. I was 23 , a new single mom...no friends...no job...and not much family to speak of. I had to make money and take care of my son... I couldn’t afford to live on my own so me and my child stayed with my parents... I went back to school and learned a vocation. Then... tried for years and years to make a difference...be somebody and amount to something for my sons sake...the matrix I was in got thicker and harder to escape from...I couldn’t do enough for anyone. My parents, my employer, so called friends, relatives.... it was like total non-acceptance...I felt laughed at and demeaned.  (Like a RedHeaded Step Child.)  I had a vision of the way I wanted my life and it wasn’t happening. Feeling like every move I made no matter how positive only enabled those around me to throw dirt on my emotions and aspirations and even me. They would throw dirt on me! Spreading slanderous rumor making ugly innuendo... I would try and try to ignore and endure.  Oh!Gaud; How did I get there?  So much time had gone by in this continuum...my ideas were lost. Buried in the gook and gum of this matrix intra-cellular structure...  I got really  mad  one day and more or less threw my hands up in despare...then... feeling terribly,terribly  angry ... I suddenly broke free from the matrix by desiding right then and there ...That I was going to make a move. A move that would  change  my life and those that went with me for the better.  The  anger  did it...I was fed up...I had gotten to the point where I hated everyone around me...I had to get out or die trying...  It took alot out of me. It was a draining yet somehow refreshing experience.... In a way I was reborn...a new beginning... a time to be  me  and a very liberating change...  I had escaped.... It was my Independance Day...\n",
      "utf-8\n"
     ]
    }
   ],
   "source": [
    "p = Post.load_from_file('data\\\\3363271.female.27.Student.Virgo.xml')\n",
    "e = Post.extract_attributes_from_filename('data\\\\3363271.female.27.Student.Virgo.xml')\n",
    "c = Post.get_encoding('data\\\\4137740.female.47.indUnk.Libra.xml')\n",
    "p = Post.load_from_file('data\\\\4137740.female.47.indUnk.Libra.xml')\n",
    "print(p[0].post)\n",
    "#print(e)\n",
    "print(c)"
   ]
  },
  {
   "cell_type": "code",
   "execution_count": 228,
   "metadata": {},
   "outputs": [],
   "source": [
    "filename_id_pattern = re.compile(r\"(\\d{3,})\\..*\\..*\\..*\\..*\\.xml\")\n",
    "\n",
    "def get_filename_id(filename):\n",
    "    # We use search, not match, as we don't care if it's not the whole string\n",
    "    match = filename_id_pattern.search(filename)\n",
    "    if match:\n",
    "        return match.group(1)\n",
    "    else:\n",
    "        raise ValueError(f\"Could not find an ID in filename {filename}\")\n",
    "        \n",
    "def get_all_xml_files_in_folder(dataset_folder):\n",
    "    return glob.glob(os.path.join(dataset_folder, \"*.xml\"))\n",
    "\n",
    "def load_dataset_from_raw(dataset_folder):\n",
    "    all_posts = []\n",
    "    #print(get_all_xml_files_in_folder(dataset_folder))\n",
    "    for filename in get_all_xml_files_in_folder(dataset_folder):\n",
    "        current_posts = Post.load_from_file(filename)\n",
    "        all_posts.extend(current_posts)\n",
    "    return all_posts\n",
    "\n"
   ]
  },
  {
   "cell_type": "code",
   "execution_count": 229,
   "metadata": {},
   "outputs": [],
   "source": [
    "def save_dataset(all_posts, output_file):\n",
    "    dataset = pd.DataFrame([post.to_dict() for post in all_posts])\n",
    "    dataset.to_parquet(output_file, compression='gzip')\n",
    "    return dataset\n",
    "\n",
    "\n",
    "def load_dataset(input_file):\n",
    "    return pd.read_parquet(input_file)"
   ]
  },
  {
   "cell_type": "code",
   "execution_count": 230,
   "metadata": {},
   "outputs": [
    {
     "data": {
      "text/html": [
       "<div>\n",
       "<style scoped>\n",
       "    .dataframe tbody tr th:only-of-type {\n",
       "        vertical-align: middle;\n",
       "    }\n",
       "\n",
       "    .dataframe tbody tr th {\n",
       "        vertical-align: top;\n",
       "    }\n",
       "\n",
       "    .dataframe thead th {\n",
       "        text-align: right;\n",
       "    }\n",
       "</style>\n",
       "<table border=\"1\" class=\"dataframe\">\n",
       "  <thead>\n",
       "    <tr style=\"text-align: right;\">\n",
       "      <th></th>\n",
       "      <th>author_number</th>\n",
       "      <th>gender</th>\n",
       "      <th>age</th>\n",
       "      <th>industry</th>\n",
       "      <th>star_sign</th>\n",
       "      <th>date</th>\n",
       "      <th>post</th>\n",
       "    </tr>\n",
       "  </thead>\n",
       "  <tbody>\n",
       "    <tr>\n",
       "      <th>0</th>\n",
       "      <td>1000331</td>\n",
       "      <td>female</td>\n",
       "      <td>37</td>\n",
       "      <td>indUnk</td>\n",
       "      <td>Leo</td>\n",
       "      <td>31,May,2004</td>\n",
       "      <td>Well, everyone got up and going this morning. ...</td>\n",
       "    </tr>\n",
       "    <tr>\n",
       "      <th>1</th>\n",
       "      <td>1000331</td>\n",
       "      <td>female</td>\n",
       "      <td>37</td>\n",
       "      <td>indUnk</td>\n",
       "      <td>Leo</td>\n",
       "      <td>29,May,2004</td>\n",
       "      <td>My four-year old never stops talking.  She'll ...</td>\n",
       "    </tr>\n",
       "    <tr>\n",
       "      <th>2</th>\n",
       "      <td>1000331</td>\n",
       "      <td>female</td>\n",
       "      <td>37</td>\n",
       "      <td>indUnk</td>\n",
       "      <td>Leo</td>\n",
       "      <td>28,May,2004</td>\n",
       "      <td>Actually it's not raining yet, but I bought 15...</td>\n",
       "    </tr>\n",
       "    <tr>\n",
       "      <th>3</th>\n",
       "      <td>1000331</td>\n",
       "      <td>female</td>\n",
       "      <td>37</td>\n",
       "      <td>indUnk</td>\n",
       "      <td>Leo</td>\n",
       "      <td>28,May,2004</td>\n",
       "      <td>Ha! Just set up my RSS feed - that is so easy!...</td>\n",
       "    </tr>\n",
       "    <tr>\n",
       "      <th>4</th>\n",
       "      <td>1000331</td>\n",
       "      <td>female</td>\n",
       "      <td>37</td>\n",
       "      <td>indUnk</td>\n",
       "      <td>Leo</td>\n",
       "      <td>28,May,2004</td>\n",
       "      <td>Oh, which just reminded me, we were talking ab...</td>\n",
       "    </tr>\n",
       "    <tr>\n",
       "      <th>...</th>\n",
       "      <td>...</td>\n",
       "      <td>...</td>\n",
       "      <td>...</td>\n",
       "      <td>...</td>\n",
       "      <td>...</td>\n",
       "      <td>...</td>\n",
       "      <td>...</td>\n",
       "    </tr>\n",
       "    <tr>\n",
       "      <th>681248</th>\n",
       "      <td>999503</td>\n",
       "      <td>male</td>\n",
       "      <td>25</td>\n",
       "      <td>Internet</td>\n",
       "      <td>Cancer</td>\n",
       "      <td>04,July,2004</td>\n",
       "      <td>Today we celebrate our independence day.    In...</td>\n",
       "    </tr>\n",
       "    <tr>\n",
       "      <th>681249</th>\n",
       "      <td>999503</td>\n",
       "      <td>male</td>\n",
       "      <td>25</td>\n",
       "      <td>Internet</td>\n",
       "      <td>Cancer</td>\n",
       "      <td>03,July,2004</td>\n",
       "      <td>Ugh, I think I have allergies...  My nose has ...</td>\n",
       "    </tr>\n",
       "    <tr>\n",
       "      <th>681250</th>\n",
       "      <td>999503</td>\n",
       "      <td>male</td>\n",
       "      <td>25</td>\n",
       "      <td>Internet</td>\n",
       "      <td>Cancer</td>\n",
       "      <td>02,July,2004</td>\n",
       "      <td>\"Science is like sex; occasionally something p...</td>\n",
       "    </tr>\n",
       "    <tr>\n",
       "      <th>681251</th>\n",
       "      <td>999503</td>\n",
       "      <td>male</td>\n",
       "      <td>25</td>\n",
       "      <td>Internet</td>\n",
       "      <td>Cancer</td>\n",
       "      <td>01,July,2004</td>\n",
       "      <td>urlLink Dog toy or marital aid   I managed 10/...</td>\n",
       "    </tr>\n",
       "    <tr>\n",
       "      <th>681252</th>\n",
       "      <td>999503</td>\n",
       "      <td>male</td>\n",
       "      <td>25</td>\n",
       "      <td>Internet</td>\n",
       "      <td>Cancer</td>\n",
       "      <td>01,July,2004</td>\n",
       "      <td>I had a dream last night about a fight when I ...</td>\n",
       "    </tr>\n",
       "  </tbody>\n",
       "</table>\n",
       "<p>681253 rows × 7 columns</p>\n",
       "</div>"
      ],
      "text/plain": [
       "        author_number  gender  age  industry star_sign          date  \\\n",
       "0             1000331  female   37    indUnk       Leo   31,May,2004   \n",
       "1             1000331  female   37    indUnk       Leo   29,May,2004   \n",
       "2             1000331  female   37    indUnk       Leo   28,May,2004   \n",
       "3             1000331  female   37    indUnk       Leo   28,May,2004   \n",
       "4             1000331  female   37    indUnk       Leo   28,May,2004   \n",
       "...               ...     ...  ...       ...       ...           ...   \n",
       "681248         999503    male   25  Internet    Cancer  04,July,2004   \n",
       "681249         999503    male   25  Internet    Cancer  03,July,2004   \n",
       "681250         999503    male   25  Internet    Cancer  02,July,2004   \n",
       "681251         999503    male   25  Internet    Cancer  01,July,2004   \n",
       "681252         999503    male   25  Internet    Cancer  01,July,2004   \n",
       "\n",
       "                                                     post  \n",
       "0       Well, everyone got up and going this morning. ...  \n",
       "1       My four-year old never stops talking.  She'll ...  \n",
       "2       Actually it's not raining yet, but I bought 15...  \n",
       "3       Ha! Just set up my RSS feed - that is so easy!...  \n",
       "4       Oh, which just reminded me, we were talking ab...  \n",
       "...                                                   ...  \n",
       "681248  Today we celebrate our independence day.    In...  \n",
       "681249  Ugh, I think I have allergies...  My nose has ...  \n",
       "681250  \"Science is like sex; occasionally something p...  \n",
       "681251  urlLink Dog toy or marital aid   I managed 10/...  \n",
       "681252  I had a dream last night about a fight when I ...  \n",
       "\n",
       "[681253 rows x 7 columns]"
      ]
     },
     "execution_count": 230,
     "metadata": {},
     "output_type": "execute_result"
    }
   ],
   "source": [
    "raw_dataset = load_dataset_from_raw(dataset_folder)\n",
    "save_dataset(raw_dataset, 'posts1.data')\n",
    "#processed_dataset = load_dataset(filename)\n"
   ]
  },
  {
   "cell_type": "code",
   "execution_count": 231,
   "metadata": {},
   "outputs": [
    {
     "data": {
      "text/html": [
       "<div>\n",
       "<style scoped>\n",
       "    .dataframe tbody tr th:only-of-type {\n",
       "        vertical-align: middle;\n",
       "    }\n",
       "\n",
       "    .dataframe tbody tr th {\n",
       "        vertical-align: top;\n",
       "    }\n",
       "\n",
       "    .dataframe thead th {\n",
       "        text-align: right;\n",
       "    }\n",
       "</style>\n",
       "<table border=\"1\" class=\"dataframe\">\n",
       "  <thead>\n",
       "    <tr style=\"text-align: right;\">\n",
       "      <th></th>\n",
       "      <th>author_number</th>\n",
       "      <th>gender</th>\n",
       "      <th>age</th>\n",
       "      <th>industry</th>\n",
       "      <th>star_sign</th>\n",
       "      <th>date</th>\n",
       "      <th>post</th>\n",
       "    </tr>\n",
       "  </thead>\n",
       "  <tbody>\n",
       "    <tr>\n",
       "      <th>0</th>\n",
       "      <td>1000331</td>\n",
       "      <td>female</td>\n",
       "      <td>37</td>\n",
       "      <td>indUnk</td>\n",
       "      <td>Leo</td>\n",
       "      <td>31,May,2004</td>\n",
       "      <td>Well, everyone got up and going this morning. ...</td>\n",
       "    </tr>\n",
       "    <tr>\n",
       "      <th>1</th>\n",
       "      <td>1000331</td>\n",
       "      <td>female</td>\n",
       "      <td>37</td>\n",
       "      <td>indUnk</td>\n",
       "      <td>Leo</td>\n",
       "      <td>29,May,2004</td>\n",
       "      <td>My four-year old never stops talking.  She'll ...</td>\n",
       "    </tr>\n",
       "    <tr>\n",
       "      <th>2</th>\n",
       "      <td>1000331</td>\n",
       "      <td>female</td>\n",
       "      <td>37</td>\n",
       "      <td>indUnk</td>\n",
       "      <td>Leo</td>\n",
       "      <td>28,May,2004</td>\n",
       "      <td>Actually it's not raining yet, but I bought 15...</td>\n",
       "    </tr>\n",
       "    <tr>\n",
       "      <th>3</th>\n",
       "      <td>1000331</td>\n",
       "      <td>female</td>\n",
       "      <td>37</td>\n",
       "      <td>indUnk</td>\n",
       "      <td>Leo</td>\n",
       "      <td>28,May,2004</td>\n",
       "      <td>Ha! Just set up my RSS feed - that is so easy!...</td>\n",
       "    </tr>\n",
       "    <tr>\n",
       "      <th>4</th>\n",
       "      <td>1000331</td>\n",
       "      <td>female</td>\n",
       "      <td>37</td>\n",
       "      <td>indUnk</td>\n",
       "      <td>Leo</td>\n",
       "      <td>28,May,2004</td>\n",
       "      <td>Oh, which just reminded me, we were talking ab...</td>\n",
       "    </tr>\n",
       "  </tbody>\n",
       "</table>\n",
       "</div>"
      ],
      "text/plain": [
       "   author_number  gender  age industry star_sign         date  \\\n",
       "0        1000331  female   37   indUnk       Leo  31,May,2004   \n",
       "1        1000331  female   37   indUnk       Leo  29,May,2004   \n",
       "2        1000331  female   37   indUnk       Leo  28,May,2004   \n",
       "3        1000331  female   37   indUnk       Leo  28,May,2004   \n",
       "4        1000331  female   37   indUnk       Leo  28,May,2004   \n",
       "\n",
       "                                                post  \n",
       "0  Well, everyone got up and going this morning. ...  \n",
       "1  My four-year old never stops talking.  She'll ...  \n",
       "2  Actually it's not raining yet, but I bought 15...  \n",
       "3  Ha! Just set up my RSS feed - that is so easy!...  \n",
       "4  Oh, which just reminded me, we were talking ab...  "
      ]
     },
     "execution_count": 231,
     "metadata": {},
     "output_type": "execute_result"
    }
   ],
   "source": [
    "dataset_filename = \"posts1.data\"\n",
    "all_posts = load_dataset(dataset_filename)\n",
    "\n",
    "all_posts.head() "
   ]
  },
  {
   "cell_type": "code",
   "execution_count": 123,
   "metadata": {},
   "outputs": [],
   "source": []
  },
  {
   "cell_type": "code",
   "execution_count": 198,
   "metadata": {
    "scrolled": true
   },
   "outputs": [
    {
     "name": "stdout",
     "output_type": "stream",
     "text": [
      "[3662461 3662461 3662461 3662461 3662461 4137740 4137740  828046  828046\n",
      "  828046  828046  828046  828046  828046  828046  828046  828046  828046\n",
      "  828046]\n"
     ]
    }
   ],
   "source": [
    "#example_authors = [3574878, 2845196, 3444474, 3445677, 828046, 4284264, 3498812, 4137740, 3662461, 3363271]\n",
    "example_authors = [828046, 4137740, 3662461 ]\n",
    "\n",
    "def get_sampled_authors(dataset, sample_authors):\n",
    "    mask = dataset['author_number'].isin(sample_authors)\n",
    "    return dataset[mask]\n",
    "\n",
    "\n",
    "sample = get_sampled_authors(all_posts, example_authors)\n",
    "    \n",
    "\n",
    "documents = sample['post'].values\n",
    "authors = sample['author_number'].values\n",
    "print(authors) #19 authors"
   ]
  },
  {
   "cell_type": "code",
   "execution_count": 199,
   "metadata": {},
   "outputs": [
    {
     "data": {
      "text/plain": [
       "(14, 5, 14, 5)"
      ]
     },
     "execution_count": 199,
     "metadata": {},
     "output_type": "execute_result"
    }
   ],
   "source": [
    "from sklearn.model_selection import train_test_split\n",
    "documents_train, documents_test, authors_train, authors_test = train_test_split(documents, authors)\n",
    "\n",
    "len(documents_train), len(documents_test), len(authors_train), len(authors_test)\n",
    "\n"
   ]
  },
  {
   "cell_type": "code",
   "execution_count": 255,
   "metadata": {},
   "outputs": [
    {
     "name": "stdout",
     "output_type": "stream",
     "text": [
      "(14, 374)\n",
      "(5, 374)\n",
      "SGDClassifier()\n",
      "[3662461 3662461 4137740  828046  828046]\n",
      "[3662461  828046  828046  828046  828046]\n",
      "              precision    recall  f1-score   support\n",
      "\n",
      "      828046       0.50      1.00      0.67         2\n",
      "     3662461       1.00      0.50      0.67         2\n",
      "     4137740       0.00      0.00      0.00         1\n",
      "\n",
      "    accuracy                           0.60         5\n",
      "   macro avg       0.50      0.50      0.44         5\n",
      "weighted avg       0.60      0.60      0.53         5\n",
      "\n",
      "SVC()\n",
      "[3662461 3662461 4137740  828046  828046]\n",
      "[828046 828046 828046 828046 828046]\n",
      "              precision    recall  f1-score   support\n",
      "\n",
      "      828046       0.40      1.00      0.57         2\n",
      "     3662461       0.00      0.00      0.00         2\n",
      "     4137740       0.00      0.00      0.00         1\n",
      "\n",
      "    accuracy                           0.40         5\n",
      "   macro avg       0.13      0.33      0.19         5\n",
      "weighted avg       0.16      0.40      0.23         5\n",
      "\n",
      "SVC(kernel='linear')\n",
      "[3662461 3662461 4137740  828046  828046]\n",
      "[828046 828046 828046 828046 828046]\n",
      "              precision    recall  f1-score   support\n",
      "\n",
      "      828046       0.40      1.00      0.57         2\n",
      "     3662461       0.00      0.00      0.00         2\n",
      "     4137740       0.00      0.00      0.00         1\n",
      "\n",
      "    accuracy                           0.40         5\n",
      "   macro avg       0.13      0.33      0.19         5\n",
      "weighted avg       0.16      0.40      0.23         5\n",
      "\n",
      "BernoulliNB()\n",
      "[3662461 3662461 4137740  828046  828046]\n",
      "[828046 828046 828046 828046 828046]\n",
      "              precision    recall  f1-score   support\n",
      "\n",
      "      828046       0.40      1.00      0.57         2\n",
      "     3662461       0.00      0.00      0.00         2\n",
      "     4137740       0.00      0.00      0.00         1\n",
      "\n",
      "    accuracy                           0.40         5\n",
      "   macro avg       0.13      0.33      0.19         5\n",
      "weighted avg       0.16      0.40      0.23         5\n",
      "\n"
     ]
    },
    {
     "name": "stderr",
     "output_type": "stream",
     "text": [
      "C:\\Users\\luke\\anaconda3\\lib\\site-packages\\sklearn\\metrics\\_classification.py:1221: UndefinedMetricWarning: Precision and F-score are ill-defined and being set to 0.0 in labels with no predicted samples. Use `zero_division` parameter to control this behavior.\n",
      "  _warn_prf(average, modifier, msg_start, len(result))\n",
      "C:\\Users\\luke\\anaconda3\\lib\\site-packages\\sklearn\\metrics\\_classification.py:1221: UndefinedMetricWarning: Precision and F-score are ill-defined and being set to 0.0 in labels with no predicted samples. Use `zero_division` parameter to control this behavior.\n",
      "  _warn_prf(average, modifier, msg_start, len(result))\n",
      "C:\\Users\\luke\\anaconda3\\lib\\site-packages\\sklearn\\metrics\\_classification.py:1221: UndefinedMetricWarning: Precision and F-score are ill-defined and being set to 0.0 in labels with no predicted samples. Use `zero_division` parameter to control this behavior.\n",
      "  _warn_prf(average, modifier, msg_start, len(result))\n",
      "C:\\Users\\luke\\anaconda3\\lib\\site-packages\\sklearn\\metrics\\_classification.py:1221: UndefinedMetricWarning: Precision and F-score are ill-defined and being set to 0.0 in labels with no predicted samples. Use `zero_division` parameter to control this behavior.\n",
      "  _warn_prf(average, modifier, msg_start, len(result))\n"
     ]
    }
   ],
   "source": [
    "from sklearn.feature_extraction.text import TfidfVectorizer\n",
    "from sklearn.linear_model import SGDClassifier\n",
    "from sklearn.metrics import classification_report\n",
    "\n",
    "#preprocessor = TfidfVectorizer(analyzer='char', ngram_range=(2,3))\n",
    "preprocessor = TfidfVectorizer(analyzer='word')\n",
    "X_train = preprocessor.fit_transform(documents_train)\n",
    "print(X_train.shape)\n",
    "X_test = preprocessor.transform(documents_test)\n",
    "print(X_test.shape)\n",
    "\n",
    "models = [ SGDClassifier(), SVC(kernel='rbf'), SVC(kernel='linear'), BernoulliNB()]\n",
    "for model in models:\n",
    "    print(model)\n",
    "    model.fit(X_train, authors_train)\n",
    "    authors_predicted = model.predict(X_test)\n",
    "\n",
    "    print(authors_test)\n",
    "    print(authors_predicted)\n",
    "    print(classification_report(authors_test, authors_predicted))\n"
   ]
  },
  {
   "cell_type": "code",
   "execution_count": 201,
   "metadata": {},
   "outputs": [
    {
     "name": "stdout",
     "output_type": "stream",
     "text": [
      "374\n"
     ]
    }
   ],
   "source": [
    "feature_names = preprocessor.get_feature_names()\n",
    "print(len(feature_names))\n",
    "dense = X_train.todense()\n",
    "denselist = dense.tolist()\n",
    "df = pd.DataFrame(denselist, columns=feature_names)\n"
   ]
  },
  {
   "cell_type": "code",
   "execution_count": 202,
   "metadata": {},
   "outputs": [
    {
     "name": "stdout",
     "output_type": "stream",
     "text": [
      "          20      2074        60       70s  ability  accessories   achieve  \\\n",
      "0   0.000000  0.000000  0.081919  0.000000  0.00000     0.000000  0.000000   \n",
      "1   0.000000  0.000000  0.000000  0.000000  0.00000     0.000000  0.000000   \n",
      "2   0.000000  0.000000  0.000000  0.194517  0.00000     0.000000  0.000000   \n",
      "3   0.000000  0.000000  0.000000  0.000000  0.00000     0.000000  0.000000   \n",
      "4   0.000000  0.000000  0.000000  0.000000  0.00000     0.000000  0.000000   \n",
      "5   0.239248  0.239248  0.000000  0.000000  0.00000     0.000000  0.000000   \n",
      "6   0.000000  0.000000  0.000000  0.000000  0.00000     0.153067  0.153067   \n",
      "7   0.000000  0.000000  0.000000  0.000000  0.00000     0.000000  0.000000   \n",
      "8   0.000000  0.000000  0.000000  0.000000  0.00000     0.000000  0.000000   \n",
      "9   0.000000  0.000000  0.000000  0.000000  0.00000     0.000000  0.000000   \n",
      "10  0.000000  0.000000  0.000000  0.000000  0.00000     0.000000  0.000000   \n",
      "11  0.000000  0.000000  0.000000  0.000000  0.06367     0.000000  0.000000   \n",
      "12  0.000000  0.000000  0.000000  0.000000  0.00000     0.000000  0.000000   \n",
      "13  0.000000  0.000000  0.000000  0.000000  0.00000     0.000000  0.000000   \n",
      "\n",
      "         act       add    afraid  ...   wishing      with   within       won  \\\n",
      "0   0.000000  0.081919  0.000000  ...  0.000000  0.047880  0.00000  0.000000   \n",
      "1   0.000000  0.000000  0.000000  ...  0.000000  0.000000  0.00000  0.000000   \n",
      "2   0.194517  0.000000  0.000000  ...  0.000000  0.000000  0.00000  0.000000   \n",
      "3   0.000000  0.000000  0.000000  ...  0.000000  0.000000  0.00000  0.000000   \n",
      "4   0.000000  0.000000  0.190738  ...  0.110188  0.000000  0.00000  0.000000   \n",
      "5   0.000000  0.000000  0.000000  ...  0.000000  0.000000  0.00000  0.239248   \n",
      "6   0.000000  0.000000  0.000000  ...  0.000000  0.089464  0.00000  0.000000   \n",
      "7   0.000000  0.000000  0.000000  ...  0.000000  0.132809  0.00000  0.000000   \n",
      "8   0.000000  0.000000  0.000000  ...  0.000000  0.142428  0.00000  0.000000   \n",
      "9   0.000000  0.000000  0.000000  ...  0.000000  0.000000  0.00000  0.000000   \n",
      "10  0.000000  0.000000  0.000000  ...  0.000000  0.000000  0.00000  0.000000   \n",
      "11  0.000000  0.000000  0.000000  ...  0.000000  0.074427  0.06367  0.000000   \n",
      "12  0.000000  0.000000  0.141205  ...  0.000000  0.000000  0.00000  0.000000   \n",
      "13  0.000000  0.000000  0.000000  ...  0.000000  0.172326  0.00000  0.000000   \n",
      "\n",
      "      wrong      year     years       yes       yet       you  \n",
      "0   0.00000  0.000000  0.000000  0.000000  0.000000  0.114045  \n",
      "1   0.00000  0.000000  0.000000  0.573453  0.000000  0.000000  \n",
      "2   0.00000  0.000000  0.000000  0.000000  0.000000  0.000000  \n",
      "3   0.00000  0.000000  0.000000  0.000000  0.000000  0.000000  \n",
      "4   0.00000  0.000000  0.000000  0.000000  0.110188  0.000000  \n",
      "5   0.00000  0.239248  0.239248  0.000000  0.000000  0.000000  \n",
      "6   0.00000  0.000000  0.000000  0.000000  0.000000  0.000000  \n",
      "7   0.00000  0.000000  0.000000  0.000000  0.000000  0.000000  \n",
      "8   0.00000  0.000000  0.000000  0.000000  0.000000  0.000000  \n",
      "9   0.00000  0.000000  0.000000  0.000000  0.000000  0.150051  \n",
      "10  0.00000  0.000000  0.000000  0.000000  0.000000  0.174051  \n",
      "11  0.06367  0.000000  0.000000  0.000000  0.000000  0.000000  \n",
      "12  0.00000  0.000000  0.000000  0.000000  0.000000  0.000000  \n",
      "13  0.00000  0.000000  0.000000  0.000000  0.000000  0.205231  \n",
      "\n",
      "[14 rows x 374 columns]\n"
     ]
    }
   ],
   "source": [
    "print(df[0:100])"
   ]
  },
  {
   "cell_type": "code",
   "execution_count": 280,
   "metadata": {},
   "outputs": [],
   "source": [
    "sample_authors = np.random.choice(all_posts['author_number'].unique(), 10)"
   ]
  },
  {
   "cell_type": "code",
   "execution_count": 277,
   "metadata": {},
   "outputs": [
    {
     "name": "stderr",
     "output_type": "stream",
     "text": [
      "C:\\Users\\luke\\anaconda3\\lib\\site-packages\\sklearn\\model_selection\\_split.py:670: UserWarning: The least populated class in y has only 2 members, which is less than n_splits=5.\n",
      "  warnings.warn((\"The least populated class in y has only %d\"\n"
     ]
    },
    {
     "name": "stdout",
     "output_type": "stream",
     "text": [
      "              precision    recall  f1-score   support\n",
      "\n",
      "     1870925       0.79      1.00      0.88        15\n",
      "     2576804       0.75      1.00      0.86         3\n",
      "     3465409       0.00      0.00      0.00         1\n",
      "     3466074       0.00      0.00      0.00         0\n",
      "     3614091       1.00      0.50      0.67         6\n",
      "     3916402       1.00      1.00      1.00         1\n",
      "     3990797       0.00      0.00      0.00         2\n",
      "     4246486       0.00      0.00      0.00         1\n",
      "\n",
      "    accuracy                           0.76        29\n",
      "   macro avg       0.44      0.44      0.43        29\n",
      "weighted avg       0.73      0.76      0.72        29\n",
      "\n",
      "0.4257703081232493\n",
      "0.8163398692810457\n",
      "Pipeline(steps=[('tfidfvectorizer',\n",
      "                 TfidfVectorizer(analyzer='char', ngram_range=(2, 3))),\n",
      "                ('sgdclassifier',\n",
      "                 SGDClassifier(alpha=1e-06, l1_ratio=0.2, loss='log',\n",
      "                               penalty='elasticnet'))])\n"
     ]
    },
    {
     "name": "stderr",
     "output_type": "stream",
     "text": [
      "C:\\Users\\luke\\anaconda3\\lib\\site-packages\\sklearn\\metrics\\_classification.py:1221: UndefinedMetricWarning: Precision and F-score are ill-defined and being set to 0.0 in labels with no predicted samples. Use `zero_division` parameter to control this behavior.\n",
      "  _warn_prf(average, modifier, msg_start, len(result))\n",
      "C:\\Users\\luke\\anaconda3\\lib\\site-packages\\sklearn\\metrics\\_classification.py:1221: UndefinedMetricWarning: Recall and F-score are ill-defined and being set to 0.0 in labels with no true samples. Use `zero_division` parameter to control this behavior.\n",
      "  _warn_prf(average, modifier, msg_start, len(result))\n"
     ]
    }
   ],
   "source": [
    "\n",
    "def build_pipeline():\n",
    "    parameters = [\n",
    "        #{'svc__C': [1, 10, 100, 1000], 'svc__kernel': ['linear']},\n",
    "        #{'svc__C': [1, 10, 100, 1000], 'svc__gamma': [0.001, 0.0001], 'svc__kernel': ['rbf']},\n",
    "        {'sgdclassifier__penalty': ['elasticnet'], \n",
    "         'sgdclassifier__alpha': [10 ** x for x in range(-6, 1)], \n",
    "         'sgdclassifier__l1_ratio': [0, 0.05, 0.1, 0.2, 0.5, 0.8, 0.9, 0.95, 1], \n",
    "         'sgdclassifier__loss': ['log']}\n",
    "    ]\n",
    "    \n",
    "    model = make_pipeline(TfidfVectorizer(analyzer='char', ngram_range=(2,3)), \n",
    "                          SGDClassifier(alpha=1e-06, l1_ratio=0.2, loss='log', penalty='elasticnet'))\n",
    "    gs = GridSearchCV(model, parameters)\n",
    "    return gs\n",
    "\n",
    "def run_analysis(num_authors, model):\n",
    "    sample = get_sampled_authors(all_posts, sample_authors)\n",
    "    documents = sample['post']\n",
    "    authors = sample['author_number']\n",
    "    documents_train, documents_test, authors_train, authors_test = train_test_split(documents, authors)\n",
    "    model.fit(documents_train, authors_train)\n",
    "    authors_predicted = model.predict(documents_test)\n",
    "    print(classification_report(authors_test, authors_predicted))\n",
    "    return f1_score(y_pred=authors_predicted, y_true=authors_test, average='macro')\n",
    "\n",
    "model = build_pipeline()\n",
    "score = run_analysis(10, model)\n",
    "\n",
    "print(score)\n",
    "print(model.best_score_)                              \n",
    "print(model.best_estimator_)"
   ]
  },
  {
   "cell_type": "code",
   "execution_count": null,
   "metadata": {},
   "outputs": [],
   "source": [
    "model_types = [SGDClassifier(), SVC(kernel='rbf'), SVC(kernel='linear'), BernoulliNB()]\n",
    "    \n",
    "\n"
   ]
  },
  {
   "cell_type": "code",
   "execution_count": 282,
   "metadata": {},
   "outputs": [
    {
     "name": "stderr",
     "output_type": "stream",
     "text": [
      "C:\\Users\\luke\\anaconda3\\lib\\site-packages\\sklearn\\model_selection\\_split.py:670: UserWarning: The least populated class in y has only 1 members, which is less than n_splits=5.\n",
      "  warnings.warn((\"The least populated class in y has only %d\"\n"
     ]
    },
    {
     "name": "stdout",
     "output_type": "stream",
     "text": [
      "              precision    recall  f1-score   support\n",
      "\n",
      "     1316855       0.93      1.00      0.96       202\n",
      "     2950030       1.00      1.00      1.00        10\n",
      "     3157667       1.00      0.67      0.80         6\n",
      "     3337576       0.00      0.00      0.00         2\n",
      "     3636538       0.89      0.73      0.80        11\n",
      "     3693865       1.00      0.20      0.33         5\n",
      "     3747276       0.00      0.00      0.00         1\n",
      "     3976948       0.00      0.00      0.00         2\n",
      "     4161215       0.00      0.00      0.00         1\n",
      "     4213143       0.00      0.00      0.00         1\n",
      "\n",
      "    accuracy                           0.93       241\n",
      "   macro avg       0.48      0.36      0.39       241\n",
      "weighted avg       0.90      0.93      0.91       241\n",
      "\n",
      "0.38927605409705646\n",
      "0.9362068965517241\n",
      "Pipeline(steps=[('tfidfvectorizer',\n",
      "                 TfidfVectorizer(analyzer='char', ngram_range=(2, 3))),\n",
      "                ('svc', SVC(C=100, kernel='linear'))])\n"
     ]
    },
    {
     "name": "stderr",
     "output_type": "stream",
     "text": [
      "C:\\Users\\luke\\anaconda3\\lib\\site-packages\\sklearn\\metrics\\_classification.py:1221: UndefinedMetricWarning: Precision and F-score are ill-defined and being set to 0.0 in labels with no predicted samples. Use `zero_division` parameter to control this behavior.\n",
      "  _warn_prf(average, modifier, msg_start, len(result))\n"
     ]
    }
   ],
   "source": [
    "\n",
    "def build_pipeline():\n",
    "    parameters = [\n",
    "        {'svc__C': [1, 10, 100, 1000], 'svc__kernel': ['linear']},\n",
    "        {'svc__C': [1, 10, 100, 1000], 'svc__gamma': [0.001, 0.0001], 'svc__kernel': ['rbf']} \n",
    "    ]\n",
    "    \n",
    "    model = make_pipeline(TfidfVectorizer(analyzer='char', ngram_range=(2,3)), SVC(C=10, kernel='linear'))\n",
    "    gs = GridSearchCV(model, parameters)\n",
    "    return gs\n",
    "\n",
    "def run_analysis(num_authors, model):\n",
    "    sample = get_sampled_authors(all_posts, sample_authors)\n",
    "    documents = sample['post']\n",
    "    authors = sample['author_number']\n",
    "    documents_train, documents_test, authors_train, authors_test = train_test_split(documents, authors)\n",
    "    model.fit(documents_train, authors_train)\n",
    "    authors_predicted = model.predict(documents_test)\n",
    "    print(classification_report(authors_test, authors_predicted))\n",
    "    return f1_score(y_pred=authors_predicted, y_true=authors_test, average='macro')\n",
    "\n",
    "model = build_pipeline()\n",
    "score = run_analysis(10, model)\n",
    "\n",
    "print(score)\n",
    "print(model.best_score_)                              \n",
    "print(model.best_estimator_)"
   ]
  },
  {
   "cell_type": "code",
   "execution_count": null,
   "metadata": {},
   "outputs": [],
   "source": [
    "precision    recall  f1-score   support\n",
    "\n",
    "     2416268       0.96      0.74      0.84        31\n",
    "     2615621       0.82      0.97      0.89        37\n",
    "     3325749       1.00      1.00      1.00        13\n",
    "     3338542       1.00      1.00      1.00         2\n",
    "     3499978       0.79      0.75      0.77        20\n",
    "     3581717       1.00      1.00      1.00         7\n",
    "     3654359       0.00      0.00      0.00         2\n",
    "     3919118       0.00      0.00      0.00         0\n",
    "     4298893       0.00      0.00      0.00         4\n",
    "\n",
    "    accuracy                           0.83       116\n",
    "   macro avg       0.62      0.61      0.61       116\n",
    "weighted avg       0.84      0.83      0.83       116\n",
    "\n",
    "0.6104981438314772\n",
    "0.8934575569358179"
   ]
  },
  {
   "cell_type": "code",
   "execution_count": 283,
   "metadata": {},
   "outputs": [
    {
     "name": "stderr",
     "output_type": "stream",
     "text": [
      "C:\\Users\\luke\\anaconda3\\lib\\site-packages\\sklearn\\model_selection\\_split.py:670: UserWarning: The least populated class in y has only 1 members, which is less than n_splits=5.\n",
      "  warnings.warn((\"The least populated class in y has only %d\"\n",
      "C:\\Users\\luke\\anaconda3\\lib\\site-packages\\sklearn\\metrics\\_classification.py:1221: UndefinedMetricWarning: Precision and F-score are ill-defined and being set to 0.0 in labels with no predicted samples. Use `zero_division` parameter to control this behavior.\n",
      "  _warn_prf(average, modifier, msg_start, len(result))\n",
      "C:\\Users\\luke\\anaconda3\\lib\\site-packages\\sklearn\\model_selection\\_split.py:670: UserWarning: The least populated class in y has only 2 members, which is less than n_splits=5.\n",
      "  warnings.warn((\"The least populated class in y has only %d\"\n"
     ]
    },
    {
     "name": "stdout",
     "output_type": "stream",
     "text": [
      "              precision    recall  f1-score   support\n",
      "\n",
      "     1316855       0.95      1.00      0.97       205\n",
      "     2950030       1.00      1.00      1.00        10\n",
      "     3157667       1.00      1.00      1.00         3\n",
      "     3337576       0.00      0.00      0.00         2\n",
      "     3636538       0.82      0.69      0.75        13\n",
      "     3693865       1.00      0.20      0.33         5\n",
      "     3976948       1.00      1.00      1.00         1\n",
      "     4161215       0.00      0.00      0.00         1\n",
      "     4213143       0.00      0.00      0.00         1\n",
      "\n",
      "    accuracy                           0.95       241\n",
      "   macro avg       0.64      0.54      0.56       241\n",
      "weighted avg       0.93      0.95      0.93       241\n",
      "\n"
     ]
    },
    {
     "name": "stderr",
     "output_type": "stream",
     "text": [
      "C:\\Users\\luke\\anaconda3\\lib\\site-packages\\sklearn\\metrics\\_classification.py:1221: UndefinedMetricWarning: Precision and F-score are ill-defined and being set to 0.0 in labels with no predicted samples. Use `zero_division` parameter to control this behavior.\n",
      "  _warn_prf(average, modifier, msg_start, len(result))\n",
      "C:\\Users\\luke\\anaconda3\\lib\\site-packages\\sklearn\\model_selection\\_split.py:670: UserWarning: The least populated class in y has only 1 members, which is less than n_splits=5.\n",
      "  warnings.warn((\"The least populated class in y has only %d\"\n"
     ]
    },
    {
     "name": "stdout",
     "output_type": "stream",
     "text": [
      "              precision    recall  f1-score   support\n",
      "\n",
      "     1316855       0.93      1.00      0.96       207\n",
      "     2950030       1.00      0.92      0.96        12\n",
      "     3157667       1.00      0.60      0.75         5\n",
      "     3636538       0.50      0.12      0.20         8\n",
      "     3693865       1.00      0.40      0.57         5\n",
      "     3747276       0.00      0.00      0.00         1\n",
      "     3976948       0.00      0.00      0.00         2\n",
      "     4161215       0.00      0.00      0.00         1\n",
      "\n",
      "    accuracy                           0.93       241\n",
      "   macro avg       0.55      0.38      0.43       241\n",
      "weighted avg       0.91      0.93      0.91       241\n",
      "\n"
     ]
    },
    {
     "name": "stderr",
     "output_type": "stream",
     "text": [
      "C:\\Users\\luke\\anaconda3\\lib\\site-packages\\sklearn\\metrics\\_classification.py:1221: UndefinedMetricWarning: Precision and F-score are ill-defined and being set to 0.0 in labels with no predicted samples. Use `zero_division` parameter to control this behavior.\n",
      "  _warn_prf(average, modifier, msg_start, len(result))\n",
      "C:\\Users\\luke\\anaconda3\\lib\\site-packages\\sklearn\\model_selection\\_split.py:670: UserWarning: The least populated class in y has only 1 members, which is less than n_splits=5.\n",
      "  warnings.warn((\"The least populated class in y has only %d\"\n"
     ]
    },
    {
     "name": "stdout",
     "output_type": "stream",
     "text": [
      "              precision    recall  f1-score   support\n",
      "\n",
      "     1316855       0.94      1.00      0.97       207\n",
      "     2950030       1.00      0.91      0.95        11\n",
      "     3157667       1.00      0.50      0.67         4\n",
      "     3337576       0.00      0.00      0.00         2\n",
      "     3636538       1.00      0.64      0.78        11\n",
      "     3693865       1.00      1.00      1.00         2\n",
      "     3976948       0.00      0.00      0.00         1\n",
      "     4161215       0.00      0.00      0.00         2\n",
      "     4213143       0.00      0.00      0.00         1\n",
      "\n",
      "    accuracy                           0.95       241\n",
      "   macro avg       0.55      0.45      0.49       241\n",
      "weighted avg       0.92      0.95      0.93       241\n",
      "\n"
     ]
    },
    {
     "name": "stderr",
     "output_type": "stream",
     "text": [
      "C:\\Users\\luke\\anaconda3\\lib\\site-packages\\sklearn\\metrics\\_classification.py:1221: UndefinedMetricWarning: Precision and F-score are ill-defined and being set to 0.0 in labels with no predicted samples. Use `zero_division` parameter to control this behavior.\n",
      "  _warn_prf(average, modifier, msg_start, len(result))\n",
      "C:\\Users\\luke\\anaconda3\\lib\\site-packages\\sklearn\\model_selection\\_split.py:670: UserWarning: The least populated class in y has only 1 members, which is less than n_splits=5.\n",
      "  warnings.warn((\"The least populated class in y has only %d\"\n"
     ]
    },
    {
     "name": "stdout",
     "output_type": "stream",
     "text": [
      "              precision    recall  f1-score   support\n",
      "\n",
      "     1316855       0.94      1.00      0.97       211\n",
      "     2950030       1.00      1.00      1.00         8\n",
      "     3157667       1.00      0.75      0.86         4\n",
      "     3636538       0.75      0.43      0.55         7\n",
      "     3693865       1.00      0.14      0.25         7\n",
      "     3976948       0.00      0.00      0.00         2\n",
      "     4161215       0.00      0.00      0.00         2\n",
      "\n",
      "    accuracy                           0.94       241\n",
      "   macro avg       0.67      0.47      0.52       241\n",
      "weighted avg       0.92      0.94      0.92       241\n",
      "\n"
     ]
    },
    {
     "name": "stderr",
     "output_type": "stream",
     "text": [
      "C:\\Users\\luke\\anaconda3\\lib\\site-packages\\sklearn\\metrics\\_classification.py:1221: UndefinedMetricWarning: Precision and F-score are ill-defined and being set to 0.0 in labels with no predicted samples. Use `zero_division` parameter to control this behavior.\n",
      "  _warn_prf(average, modifier, msg_start, len(result))\n",
      "C:\\Users\\luke\\anaconda3\\lib\\site-packages\\sklearn\\model_selection\\_split.py:670: UserWarning: The least populated class in y has only 1 members, which is less than n_splits=5.\n",
      "  warnings.warn((\"The least populated class in y has only %d\"\n"
     ]
    },
    {
     "name": "stdout",
     "output_type": "stream",
     "text": [
      "              precision    recall  f1-score   support\n",
      "\n",
      "     1316855       0.95      1.00      0.97       207\n",
      "     2950030       1.00      1.00      1.00        10\n",
      "     3157667       1.00      0.75      0.86         4\n",
      "     3337576       0.00      0.00      0.00         1\n",
      "     3636538       0.75      0.75      0.75         8\n",
      "     3693865       1.00      0.11      0.20         9\n",
      "     3976948       0.00      0.00      0.00         2\n",
      "\n",
      "    accuracy                           0.94       241\n",
      "   macro avg       0.67      0.52      0.54       241\n",
      "weighted avg       0.93      0.94      0.92       241\n",
      "\n"
     ]
    },
    {
     "name": "stderr",
     "output_type": "stream",
     "text": [
      "C:\\Users\\luke\\anaconda3\\lib\\site-packages\\sklearn\\metrics\\_classification.py:1221: UndefinedMetricWarning: Precision and F-score are ill-defined and being set to 0.0 in labels with no predicted samples. Use `zero_division` parameter to control this behavior.\n",
      "  _warn_prf(average, modifier, msg_start, len(result))\n",
      "C:\\Users\\luke\\anaconda3\\lib\\site-packages\\sklearn\\model_selection\\_split.py:670: UserWarning: The least populated class in y has only 1 members, which is less than n_splits=5.\n",
      "  warnings.warn((\"The least populated class in y has only %d\"\n"
     ]
    },
    {
     "name": "stdout",
     "output_type": "stream",
     "text": [
      "              precision    recall  f1-score   support\n",
      "\n",
      "     1316855       0.94      0.99      0.96       209\n",
      "     2950030       1.00      1.00      1.00        10\n",
      "     3157667       1.00      0.67      0.80         3\n",
      "     3636538       0.83      0.62      0.71         8\n",
      "     3693865       0.50      0.17      0.25         6\n",
      "     3976948       0.00      0.00      0.00         2\n",
      "     4161215       0.00      0.00      0.00         3\n",
      "\n",
      "    accuracy                           0.93       241\n",
      "   macro avg       0.61      0.49      0.53       241\n",
      "weighted avg       0.91      0.93      0.92       241\n",
      "\n"
     ]
    },
    {
     "name": "stderr",
     "output_type": "stream",
     "text": [
      "C:\\Users\\luke\\anaconda3\\lib\\site-packages\\sklearn\\metrics\\_classification.py:1221: UndefinedMetricWarning: Precision and F-score are ill-defined and being set to 0.0 in labels with no predicted samples. Use `zero_division` parameter to control this behavior.\n",
      "  _warn_prf(average, modifier, msg_start, len(result))\n",
      "C:\\Users\\luke\\anaconda3\\lib\\site-packages\\sklearn\\model_selection\\_split.py:670: UserWarning: The least populated class in y has only 1 members, which is less than n_splits=5.\n",
      "  warnings.warn((\"The least populated class in y has only %d\"\n"
     ]
    },
    {
     "name": "stdout",
     "output_type": "stream",
     "text": [
      "              precision    recall  f1-score   support\n",
      "\n",
      "     1316855       0.96      1.00      0.98       216\n",
      "     2950030       1.00      1.00      1.00         8\n",
      "     3157667       1.00      1.00      1.00         2\n",
      "     3636538       0.71      0.62      0.67         8\n",
      "     3693865       1.00      0.50      0.67         2\n",
      "     3747276       0.00      0.00      0.00         1\n",
      "     3976948       0.00      0.00      0.00         2\n",
      "     4161215       0.00      0.00      0.00         1\n",
      "     4213143       0.00      0.00      0.00         1\n",
      "\n",
      "    accuracy                           0.96       241\n",
      "   macro avg       0.52      0.46      0.48       241\n",
      "weighted avg       0.94      0.96      0.95       241\n",
      "\n"
     ]
    },
    {
     "name": "stderr",
     "output_type": "stream",
     "text": [
      "C:\\Users\\luke\\anaconda3\\lib\\site-packages\\sklearn\\metrics\\_classification.py:1221: UndefinedMetricWarning: Precision and F-score are ill-defined and being set to 0.0 in labels with no predicted samples. Use `zero_division` parameter to control this behavior.\n",
      "  _warn_prf(average, modifier, msg_start, len(result))\n",
      "C:\\Users\\luke\\anaconda3\\lib\\site-packages\\sklearn\\model_selection\\_split.py:670: UserWarning: The least populated class in y has only 1 members, which is less than n_splits=5.\n",
      "  warnings.warn((\"The least populated class in y has only %d\"\n"
     ]
    },
    {
     "name": "stdout",
     "output_type": "stream",
     "text": [
      "              precision    recall  f1-score   support\n",
      "\n",
      "     1316855       0.95      0.99      0.97       202\n",
      "     2950030       1.00      1.00      1.00        17\n",
      "     3157667       1.00      0.75      0.86         4\n",
      "     3636538       0.86      0.67      0.75         9\n",
      "     3693865       0.67      0.40      0.50         5\n",
      "     3976948       0.00      0.00      0.00         1\n",
      "     4161215       0.00      0.00      0.00         1\n",
      "     4213143       0.00      0.00      0.00         2\n",
      "\n",
      "    accuracy                           0.95       241\n",
      "   macro avg       0.56      0.48      0.51       241\n",
      "weighted avg       0.93      0.95      0.93       241\n",
      "\n"
     ]
    },
    {
     "name": "stderr",
     "output_type": "stream",
     "text": [
      "C:\\Users\\luke\\anaconda3\\lib\\site-packages\\sklearn\\metrics\\_classification.py:1221: UndefinedMetricWarning: Precision and F-score are ill-defined and being set to 0.0 in labels with no predicted samples. Use `zero_division` parameter to control this behavior.\n",
      "  _warn_prf(average, modifier, msg_start, len(result))\n",
      "C:\\Users\\luke\\anaconda3\\lib\\site-packages\\sklearn\\model_selection\\_split.py:670: UserWarning: The least populated class in y has only 1 members, which is less than n_splits=5.\n",
      "  warnings.warn((\"The least populated class in y has only %d\"\n"
     ]
    },
    {
     "name": "stdout",
     "output_type": "stream",
     "text": [
      "              precision    recall  f1-score   support\n",
      "\n",
      "     1316855       0.93      1.00      0.96       208\n",
      "     2950030       1.00      1.00      1.00         8\n",
      "     3157667       1.00      0.40      0.57         5\n",
      "     3337576       0.00      0.00      0.00         1\n",
      "     3636538       0.71      0.50      0.59        10\n",
      "     3693865       1.00      0.14      0.25         7\n",
      "     3976948       0.00      0.00      0.00         2\n",
      "\n",
      "    accuracy                           0.93       241\n",
      "   macro avg       0.66      0.43      0.48       241\n",
      "weighted avg       0.91      0.93      0.91       241\n",
      "\n"
     ]
    },
    {
     "name": "stderr",
     "output_type": "stream",
     "text": [
      "C:\\Users\\luke\\anaconda3\\lib\\site-packages\\sklearn\\metrics\\_classification.py:1221: UndefinedMetricWarning: Precision and F-score are ill-defined and being set to 0.0 in labels with no predicted samples. Use `zero_division` parameter to control this behavior.\n",
      "  _warn_prf(average, modifier, msg_start, len(result))\n"
     ]
    },
    {
     "name": "stdout",
     "output_type": "stream",
     "text": [
      "              precision    recall  f1-score   support\n",
      "\n",
      "     1316855       0.93      1.00      0.96       201\n",
      "     2950030       1.00      1.00      1.00        12\n",
      "     3157667       1.00      1.00      1.00         2\n",
      "     3337576       0.00      0.00      0.00         1\n",
      "     3636538       0.80      0.57      0.67        14\n",
      "     3693865       1.00      0.50      0.67         4\n",
      "     3976948       0.00      0.00      0.00         3\n",
      "     4161215       0.00      0.00      0.00         3\n",
      "     4213143       0.00      0.00      0.00         1\n",
      "\n",
      "    accuracy                           0.93       241\n",
      "   macro avg       0.53      0.45      0.48       241\n",
      "weighted avg       0.90      0.93      0.91       241\n",
      "\n"
     ]
    },
    {
     "data": {
      "text/plain": [
       "[<matplotlib.lines.Line2D at 0x206584d0730>]"
      ]
     },
     "execution_count": 283,
     "metadata": {},
     "output_type": "execute_result"
    },
    {
     "data": {
      "image/png": "[encoded data removed]",
      "text/plain": [
       "<Figure size 432x288 with 1 Axes>"
      ]
     },
     "metadata": {
      "needs_background": "light"
     },
     "output_type": "display_data"
    }
   ],
   "source": [
    "scores = np.array([\n",
    "    [n_authors, run_analysis(n_authors, model)]\n",
    "    for n_authors in np.arange(10, 200, 20)\n",
    "])\n",
    "\n",
    "from matplotlib import pyplot as plt\n",
    "\n",
    "plt.plot(*scores.T)"
   ]
  },
  {
   "cell_type": "code",
   "execution_count": null,
   "metadata": {},
   "outputs": [],
   "source": []
  }
 ],
 "metadata": {
  "kernelspec": {
   "display_name": "Python 3",
   "language": "python",
   "name": "python3"
  },
  "language_info": {
   "codemirror_mode": {
    "name": "ipython",
    "version": 3
   },
   "file_extension": ".py",
   "mimetype": "text/x-python",
   "name": "python",
   "nbconvert_exporter": "python",
   "pygments_lexer": "ipython3",
   "version": "3.8.3"
  }
 },
 "nbformat": 4,
 "nbformat_minor": 4
}
